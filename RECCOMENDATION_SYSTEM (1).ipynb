{
 "cells": [
  {
   "cell_type": "markdown",
   "metadata": {},
   "source": [
    "\n",
    "IMPORTING THE NECESSARY LIBRARIES"
   ]
  },
  {
   "cell_type": "code",
   "execution_count": 1,
   "metadata": {},
   "outputs": [],
   "source": [
    "import pandas as pd\n",
    "import numpy as np\n",
    "from sklearn.neighbors import NearestNeighbors\n",
    "from scipy.sparse import csr_matrix"
   ]
  },
  {
   "cell_type": "markdown",
   "metadata": {},
   "source": [
    "IMPORTING THE DATA AND STORING IT "
   ]
  },
  {
   "cell_type": "code",
   "execution_count": 2,
   "metadata": {},
   "outputs": [
    {
     "data": {
      "text/html": [
       "<div>\n",
       "<style scoped>\n",
       "    .dataframe tbody tr th:only-of-type {\n",
       "        vertical-align: middle;\n",
       "    }\n",
       "\n",
       "    .dataframe tbody tr th {\n",
       "        vertical-align: top;\n",
       "    }\n",
       "\n",
       "    .dataframe thead th {\n",
       "        text-align: right;\n",
       "    }\n",
       "</style>\n",
       "<table border=\"1\" class=\"dataframe\">\n",
       "  <thead>\n",
       "    <tr style=\"text-align: right;\">\n",
       "      <th></th>\n",
       "      <th>InvoiceNo</th>\n",
       "      <th>StockCode</th>\n",
       "      <th>Description</th>\n",
       "      <th>Quantity</th>\n",
       "      <th>InvoiceDate</th>\n",
       "      <th>UnitPrice</th>\n",
       "      <th>CustomerID</th>\n",
       "      <th>Country</th>\n",
       "    </tr>\n",
       "  </thead>\n",
       "  <tbody>\n",
       "    <tr>\n",
       "      <th>0</th>\n",
       "      <td>536365</td>\n",
       "      <td>85123A</td>\n",
       "      <td>WHITE HANGING HEART T-LIGHT HOLDER</td>\n",
       "      <td>6</td>\n",
       "      <td>12/1/2010 8:26</td>\n",
       "      <td>2.55</td>\n",
       "      <td>17850.0</td>\n",
       "      <td>United Kingdom</td>\n",
       "    </tr>\n",
       "    <tr>\n",
       "      <th>1</th>\n",
       "      <td>536365</td>\n",
       "      <td>71053</td>\n",
       "      <td>WHITE METAL LANTERN</td>\n",
       "      <td>6</td>\n",
       "      <td>12/1/2010 8:26</td>\n",
       "      <td>3.39</td>\n",
       "      <td>17850.0</td>\n",
       "      <td>United Kingdom</td>\n",
       "    </tr>\n",
       "    <tr>\n",
       "      <th>2</th>\n",
       "      <td>536365</td>\n",
       "      <td>84406B</td>\n",
       "      <td>CREAM CUPID HEARTS COAT HANGER</td>\n",
       "      <td>8</td>\n",
       "      <td>12/1/2010 8:26</td>\n",
       "      <td>2.75</td>\n",
       "      <td>17850.0</td>\n",
       "      <td>United Kingdom</td>\n",
       "    </tr>\n",
       "    <tr>\n",
       "      <th>3</th>\n",
       "      <td>536365</td>\n",
       "      <td>84029G</td>\n",
       "      <td>KNITTED UNION FLAG HOT WATER BOTTLE</td>\n",
       "      <td>6</td>\n",
       "      <td>12/1/2010 8:26</td>\n",
       "      <td>3.39</td>\n",
       "      <td>17850.0</td>\n",
       "      <td>United Kingdom</td>\n",
       "    </tr>\n",
       "    <tr>\n",
       "      <th>4</th>\n",
       "      <td>536365</td>\n",
       "      <td>84029E</td>\n",
       "      <td>RED WOOLLY HOTTIE WHITE HEART.</td>\n",
       "      <td>6</td>\n",
       "      <td>12/1/2010 8:26</td>\n",
       "      <td>3.39</td>\n",
       "      <td>17850.0</td>\n",
       "      <td>United Kingdom</td>\n",
       "    </tr>\n",
       "    <tr>\n",
       "      <th>5</th>\n",
       "      <td>536365</td>\n",
       "      <td>22752</td>\n",
       "      <td>SET 7 BABUSHKA NESTING BOXES</td>\n",
       "      <td>2</td>\n",
       "      <td>12/1/2010 8:26</td>\n",
       "      <td>7.65</td>\n",
       "      <td>17850.0</td>\n",
       "      <td>United Kingdom</td>\n",
       "    </tr>\n",
       "    <tr>\n",
       "      <th>6</th>\n",
       "      <td>536365</td>\n",
       "      <td>21730</td>\n",
       "      <td>GLASS STAR FROSTED T-LIGHT HOLDER</td>\n",
       "      <td>6</td>\n",
       "      <td>12/1/2010 8:26</td>\n",
       "      <td>4.25</td>\n",
       "      <td>17850.0</td>\n",
       "      <td>United Kingdom</td>\n",
       "    </tr>\n",
       "    <tr>\n",
       "      <th>7</th>\n",
       "      <td>536366</td>\n",
       "      <td>22633</td>\n",
       "      <td>HAND WARMER UNION JACK</td>\n",
       "      <td>6</td>\n",
       "      <td>12/1/2010 8:28</td>\n",
       "      <td>1.85</td>\n",
       "      <td>17850.0</td>\n",
       "      <td>United Kingdom</td>\n",
       "    </tr>\n",
       "    <tr>\n",
       "      <th>8</th>\n",
       "      <td>536366</td>\n",
       "      <td>22632</td>\n",
       "      <td>HAND WARMER RED POLKA DOT</td>\n",
       "      <td>6</td>\n",
       "      <td>12/1/2010 8:28</td>\n",
       "      <td>1.85</td>\n",
       "      <td>17850.0</td>\n",
       "      <td>United Kingdom</td>\n",
       "    </tr>\n",
       "    <tr>\n",
       "      <th>9</th>\n",
       "      <td>536367</td>\n",
       "      <td>84879</td>\n",
       "      <td>ASSORTED COLOUR BIRD ORNAMENT</td>\n",
       "      <td>32</td>\n",
       "      <td>12/1/2010 8:34</td>\n",
       "      <td>1.69</td>\n",
       "      <td>13047.0</td>\n",
       "      <td>United Kingdom</td>\n",
       "    </tr>\n",
       "    <tr>\n",
       "      <th>10</th>\n",
       "      <td>536367</td>\n",
       "      <td>22745</td>\n",
       "      <td>POPPY'S PLAYHOUSE BEDROOM</td>\n",
       "      <td>6</td>\n",
       "      <td>12/1/2010 8:34</td>\n",
       "      <td>2.10</td>\n",
       "      <td>13047.0</td>\n",
       "      <td>United Kingdom</td>\n",
       "    </tr>\n",
       "    <tr>\n",
       "      <th>11</th>\n",
       "      <td>536367</td>\n",
       "      <td>22748</td>\n",
       "      <td>POPPY'S PLAYHOUSE KITCHEN</td>\n",
       "      <td>6</td>\n",
       "      <td>12/1/2010 8:34</td>\n",
       "      <td>2.10</td>\n",
       "      <td>13047.0</td>\n",
       "      <td>United Kingdom</td>\n",
       "    </tr>\n",
       "    <tr>\n",
       "      <th>12</th>\n",
       "      <td>536367</td>\n",
       "      <td>22749</td>\n",
       "      <td>FELTCRAFT PRINCESS CHARLOTTE DOLL</td>\n",
       "      <td>8</td>\n",
       "      <td>12/1/2010 8:34</td>\n",
       "      <td>3.75</td>\n",
       "      <td>13047.0</td>\n",
       "      <td>United Kingdom</td>\n",
       "    </tr>\n",
       "    <tr>\n",
       "      <th>13</th>\n",
       "      <td>536367</td>\n",
       "      <td>22310</td>\n",
       "      <td>IVORY KNITTED MUG COSY</td>\n",
       "      <td>6</td>\n",
       "      <td>12/1/2010 8:34</td>\n",
       "      <td>1.65</td>\n",
       "      <td>13047.0</td>\n",
       "      <td>United Kingdom</td>\n",
       "    </tr>\n",
       "    <tr>\n",
       "      <th>14</th>\n",
       "      <td>536367</td>\n",
       "      <td>84969</td>\n",
       "      <td>BOX OF 6 ASSORTED COLOUR TEASPOONS</td>\n",
       "      <td>6</td>\n",
       "      <td>12/1/2010 8:34</td>\n",
       "      <td>4.25</td>\n",
       "      <td>13047.0</td>\n",
       "      <td>United Kingdom</td>\n",
       "    </tr>\n",
       "    <tr>\n",
       "      <th>15</th>\n",
       "      <td>536367</td>\n",
       "      <td>22623</td>\n",
       "      <td>BOX OF VINTAGE JIGSAW BLOCKS</td>\n",
       "      <td>3</td>\n",
       "      <td>12/1/2010 8:34</td>\n",
       "      <td>4.95</td>\n",
       "      <td>13047.0</td>\n",
       "      <td>United Kingdom</td>\n",
       "    </tr>\n",
       "    <tr>\n",
       "      <th>16</th>\n",
       "      <td>536367</td>\n",
       "      <td>22622</td>\n",
       "      <td>BOX OF VINTAGE ALPHABET BLOCKS</td>\n",
       "      <td>2</td>\n",
       "      <td>12/1/2010 8:34</td>\n",
       "      <td>9.95</td>\n",
       "      <td>13047.0</td>\n",
       "      <td>United Kingdom</td>\n",
       "    </tr>\n",
       "    <tr>\n",
       "      <th>17</th>\n",
       "      <td>536367</td>\n",
       "      <td>21754</td>\n",
       "      <td>HOME BUILDING BLOCK WORD</td>\n",
       "      <td>3</td>\n",
       "      <td>12/1/2010 8:34</td>\n",
       "      <td>5.95</td>\n",
       "      <td>13047.0</td>\n",
       "      <td>United Kingdom</td>\n",
       "    </tr>\n",
       "    <tr>\n",
       "      <th>18</th>\n",
       "      <td>536367</td>\n",
       "      <td>21755</td>\n",
       "      <td>LOVE BUILDING BLOCK WORD</td>\n",
       "      <td>3</td>\n",
       "      <td>12/1/2010 8:34</td>\n",
       "      <td>5.95</td>\n",
       "      <td>13047.0</td>\n",
       "      <td>United Kingdom</td>\n",
       "    </tr>\n",
       "    <tr>\n",
       "      <th>19</th>\n",
       "      <td>536367</td>\n",
       "      <td>21777</td>\n",
       "      <td>RECIPE BOX WITH METAL HEART</td>\n",
       "      <td>4</td>\n",
       "      <td>12/1/2010 8:34</td>\n",
       "      <td>7.95</td>\n",
       "      <td>13047.0</td>\n",
       "      <td>United Kingdom</td>\n",
       "    </tr>\n",
       "  </tbody>\n",
       "</table>\n",
       "</div>"
      ],
      "text/plain": [
       "   InvoiceNo StockCode                          Description  Quantity  \\\n",
       "0     536365    85123A   WHITE HANGING HEART T-LIGHT HOLDER         6   \n",
       "1     536365     71053                  WHITE METAL LANTERN         6   \n",
       "2     536365    84406B       CREAM CUPID HEARTS COAT HANGER         8   \n",
       "3     536365    84029G  KNITTED UNION FLAG HOT WATER BOTTLE         6   \n",
       "4     536365    84029E       RED WOOLLY HOTTIE WHITE HEART.         6   \n",
       "5     536365     22752         SET 7 BABUSHKA NESTING BOXES         2   \n",
       "6     536365     21730    GLASS STAR FROSTED T-LIGHT HOLDER         6   \n",
       "7     536366     22633               HAND WARMER UNION JACK         6   \n",
       "8     536366     22632            HAND WARMER RED POLKA DOT         6   \n",
       "9     536367     84879        ASSORTED COLOUR BIRD ORNAMENT        32   \n",
       "10    536367     22745           POPPY'S PLAYHOUSE BEDROOM          6   \n",
       "11    536367     22748            POPPY'S PLAYHOUSE KITCHEN         6   \n",
       "12    536367     22749    FELTCRAFT PRINCESS CHARLOTTE DOLL         8   \n",
       "13    536367     22310              IVORY KNITTED MUG COSY          6   \n",
       "14    536367     84969   BOX OF 6 ASSORTED COLOUR TEASPOONS         6   \n",
       "15    536367     22623        BOX OF VINTAGE JIGSAW BLOCKS          3   \n",
       "16    536367     22622       BOX OF VINTAGE ALPHABET BLOCKS         2   \n",
       "17    536367     21754             HOME BUILDING BLOCK WORD         3   \n",
       "18    536367     21755             LOVE BUILDING BLOCK WORD         3   \n",
       "19    536367     21777          RECIPE BOX WITH METAL HEART         4   \n",
       "\n",
       "       InvoiceDate  UnitPrice  CustomerID         Country  \n",
       "0   12/1/2010 8:26       2.55     17850.0  United Kingdom  \n",
       "1   12/1/2010 8:26       3.39     17850.0  United Kingdom  \n",
       "2   12/1/2010 8:26       2.75     17850.0  United Kingdom  \n",
       "3   12/1/2010 8:26       3.39     17850.0  United Kingdom  \n",
       "4   12/1/2010 8:26       3.39     17850.0  United Kingdom  \n",
       "5   12/1/2010 8:26       7.65     17850.0  United Kingdom  \n",
       "6   12/1/2010 8:26       4.25     17850.0  United Kingdom  \n",
       "7   12/1/2010 8:28       1.85     17850.0  United Kingdom  \n",
       "8   12/1/2010 8:28       1.85     17850.0  United Kingdom  \n",
       "9   12/1/2010 8:34       1.69     13047.0  United Kingdom  \n",
       "10  12/1/2010 8:34       2.10     13047.0  United Kingdom  \n",
       "11  12/1/2010 8:34       2.10     13047.0  United Kingdom  \n",
       "12  12/1/2010 8:34       3.75     13047.0  United Kingdom  \n",
       "13  12/1/2010 8:34       1.65     13047.0  United Kingdom  \n",
       "14  12/1/2010 8:34       4.25     13047.0  United Kingdom  \n",
       "15  12/1/2010 8:34       4.95     13047.0  United Kingdom  \n",
       "16  12/1/2010 8:34       9.95     13047.0  United Kingdom  \n",
       "17  12/1/2010 8:34       5.95     13047.0  United Kingdom  \n",
       "18  12/1/2010 8:34       5.95     13047.0  United Kingdom  \n",
       "19  12/1/2010 8:34       7.95     13047.0  United Kingdom  "
      ]
     },
     "execution_count": 2,
     "metadata": {},
     "output_type": "execute_result"
    }
   ],
   "source": [
    "df=pd.read_csv(r\"F:\\STORI_RECCOMENDATION_SYSTEM\\STORI_RECC_DATA.csv\",encoding= 'unicode_escape')\n",
    "df.head(20)\n"
   ]
  },
  {
   "cell_type": "markdown",
   "metadata": {},
   "source": [
    "adding a rating column with values as 1 as values for user interaction matrix"
   ]
  },
  {
   "cell_type": "code",
   "execution_count": 3,
   "metadata": {},
   "outputs": [
    {
     "data": {
      "text/html": [
       "<div>\n",
       "<style scoped>\n",
       "    .dataframe tbody tr th:only-of-type {\n",
       "        vertical-align: middle;\n",
       "    }\n",
       "\n",
       "    .dataframe tbody tr th {\n",
       "        vertical-align: top;\n",
       "    }\n",
       "\n",
       "    .dataframe thead th {\n",
       "        text-align: right;\n",
       "    }\n",
       "</style>\n",
       "<table border=\"1\" class=\"dataframe\">\n",
       "  <thead>\n",
       "    <tr style=\"text-align: right;\">\n",
       "      <th></th>\n",
       "      <th>InvoiceNo</th>\n",
       "      <th>StockCode</th>\n",
       "      <th>Description</th>\n",
       "      <th>Quantity</th>\n",
       "      <th>InvoiceDate</th>\n",
       "      <th>UnitPrice</th>\n",
       "      <th>CustomerID</th>\n",
       "      <th>Country</th>\n",
       "      <th>rating</th>\n",
       "    </tr>\n",
       "  </thead>\n",
       "  <tbody>\n",
       "    <tr>\n",
       "      <th>0</th>\n",
       "      <td>536365</td>\n",
       "      <td>85123A</td>\n",
       "      <td>WHITE HANGING HEART T-LIGHT HOLDER</td>\n",
       "      <td>6</td>\n",
       "      <td>12/1/2010 8:26</td>\n",
       "      <td>2.55</td>\n",
       "      <td>17850.0</td>\n",
       "      <td>United Kingdom</td>\n",
       "      <td>1</td>\n",
       "    </tr>\n",
       "    <tr>\n",
       "      <th>1</th>\n",
       "      <td>536365</td>\n",
       "      <td>71053</td>\n",
       "      <td>WHITE METAL LANTERN</td>\n",
       "      <td>6</td>\n",
       "      <td>12/1/2010 8:26</td>\n",
       "      <td>3.39</td>\n",
       "      <td>17850.0</td>\n",
       "      <td>United Kingdom</td>\n",
       "      <td>1</td>\n",
       "    </tr>\n",
       "    <tr>\n",
       "      <th>2</th>\n",
       "      <td>536365</td>\n",
       "      <td>84406B</td>\n",
       "      <td>CREAM CUPID HEARTS COAT HANGER</td>\n",
       "      <td>8</td>\n",
       "      <td>12/1/2010 8:26</td>\n",
       "      <td>2.75</td>\n",
       "      <td>17850.0</td>\n",
       "      <td>United Kingdom</td>\n",
       "      <td>1</td>\n",
       "    </tr>\n",
       "    <tr>\n",
       "      <th>3</th>\n",
       "      <td>536365</td>\n",
       "      <td>84029G</td>\n",
       "      <td>KNITTED UNION FLAG HOT WATER BOTTLE</td>\n",
       "      <td>6</td>\n",
       "      <td>12/1/2010 8:26</td>\n",
       "      <td>3.39</td>\n",
       "      <td>17850.0</td>\n",
       "      <td>United Kingdom</td>\n",
       "      <td>1</td>\n",
       "    </tr>\n",
       "    <tr>\n",
       "      <th>4</th>\n",
       "      <td>536365</td>\n",
       "      <td>84029E</td>\n",
       "      <td>RED WOOLLY HOTTIE WHITE HEART.</td>\n",
       "      <td>6</td>\n",
       "      <td>12/1/2010 8:26</td>\n",
       "      <td>3.39</td>\n",
       "      <td>17850.0</td>\n",
       "      <td>United Kingdom</td>\n",
       "      <td>1</td>\n",
       "    </tr>\n",
       "  </tbody>\n",
       "</table>\n",
       "</div>"
      ],
      "text/plain": [
       "  InvoiceNo StockCode                          Description  Quantity  \\\n",
       "0    536365    85123A   WHITE HANGING HEART T-LIGHT HOLDER         6   \n",
       "1    536365     71053                  WHITE METAL LANTERN         6   \n",
       "2    536365    84406B       CREAM CUPID HEARTS COAT HANGER         8   \n",
       "3    536365    84029G  KNITTED UNION FLAG HOT WATER BOTTLE         6   \n",
       "4    536365    84029E       RED WOOLLY HOTTIE WHITE HEART.         6   \n",
       "\n",
       "      InvoiceDate  UnitPrice  CustomerID         Country  rating  \n",
       "0  12/1/2010 8:26       2.55     17850.0  United Kingdom       1  \n",
       "1  12/1/2010 8:26       3.39     17850.0  United Kingdom       1  \n",
       "2  12/1/2010 8:26       2.75     17850.0  United Kingdom       1  \n",
       "3  12/1/2010 8:26       3.39     17850.0  United Kingdom       1  \n",
       "4  12/1/2010 8:26       3.39     17850.0  United Kingdom       1  "
      ]
     },
     "execution_count": 3,
     "metadata": {},
     "output_type": "execute_result"
    }
   ],
   "source": [
    "df['rating']=1\n",
    "df.head()"
   ]
  },
  {
   "cell_type": "markdown",
   "metadata": {},
   "source": [
    "found that stockcode is unique for a product but color may change"
   ]
  },
  {
   "cell_type": "code",
   "execution_count": 4,
   "metadata": {},
   "outputs": [
    {
     "name": "stdout",
     "output_type": "stream",
     "text": [
      "                               Description StockCode\n",
      "0       WHITE HANGING HEART T-LIGHT HOLDER    85123A\n",
      "49      WHITE HANGING HEART T-LIGHT HOLDER    85123A\n",
      "66      WHITE HANGING HEART T-LIGHT HOLDER    85123A\n",
      "220     WHITE HANGING HEART T-LIGHT HOLDER    85123A\n",
      "262     WHITE HANGING HEART T-LIGHT HOLDER    85123A\n",
      "...                                    ...       ...\n",
      "539342  CREAM HANGING HEART T-LIGHT HOLDER    85123A\n",
      "539979  WHITE HANGING HEART T-LIGHT HOLDER    85123A\n",
      "540217  WHITE HANGING HEART T-LIGHT HOLDER    85123A\n",
      "540837  CREAM HANGING HEART T-LIGHT HOLDER    85123A\n",
      "541639  CREAM HANGING HEART T-LIGHT HOLDER    85123A\n",
      "\n",
      "[2313 rows x 2 columns]\n"
     ]
    }
   ],
   "source": [
    "print(df[['Description','StockCode']][df.StockCode=='85123A'])"
   ]
  },
  {
   "cell_type": "markdown",
   "metadata": {},
   "source": [
    "DATA PREPROCESSING"
   ]
  },
  {
   "cell_type": "code",
   "execution_count": 5,
   "metadata": {},
   "outputs": [
    {
     "data": {
      "text/plain": [
       "(541909, 9)"
      ]
     },
     "execution_count": 5,
     "metadata": {},
     "output_type": "execute_result"
    }
   ],
   "source": [
    "df.shape"
   ]
  },
  {
   "cell_type": "code",
   "execution_count": 6,
   "metadata": {},
   "outputs": [
    {
     "data": {
      "text/plain": [
       "InvoiceNo           0\n",
       "StockCode           0\n",
       "Description      1454\n",
       "Quantity            0\n",
       "InvoiceDate         0\n",
       "UnitPrice           0\n",
       "CustomerID     135080\n",
       "Country             0\n",
       "rating              0\n",
       "dtype: int64"
      ]
     },
     "execution_count": 6,
     "metadata": {},
     "output_type": "execute_result"
    }
   ],
   "source": [
    "df.isnull().sum()\n"
   ]
  },
  {
   "cell_type": "markdown",
   "metadata": {},
   "source": [
    "dropping all the null values"
   ]
  },
  {
   "cell_type": "code",
   "execution_count": 7,
   "metadata": {},
   "outputs": [
    {
     "data": {
      "text/plain": [
       "(406829, 9)"
      ]
     },
     "execution_count": 7,
     "metadata": {},
     "output_type": "execute_result"
    }
   ],
   "source": [
    "df=df.dropna()\n",
    "df.shape"
   ]
  },
  {
   "cell_type": "code",
   "execution_count": 8,
   "metadata": {},
   "outputs": [
    {
     "data": {
      "text/plain": [
       "StockCode\n",
       "10002       49\n",
       "10080       21\n",
       "10120       30\n",
       "10123C       3\n",
       "10124A       5\n",
       "          ... \n",
       "D           77\n",
       "DOT         16\n",
       "M          465\n",
       "PADS         4\n",
       "POST      1196\n",
       "Name: Country, Length: 3684, dtype: int64"
      ]
     },
     "execution_count": 8,
     "metadata": {},
     "output_type": "execute_result"
    }
   ],
   "source": [
    "df.groupby(['StockCode'])['Country'].count()\n"
   ]
  },
  {
   "cell_type": "markdown",
   "metadata": {},
   "source": [
    "just a code to understand how many product a customer purchased"
   ]
  },
  {
   "cell_type": "code",
   "execution_count": 9,
   "metadata": {},
   "outputs": [
    {
     "data": {
      "text/plain": [
       "CustomerID\n",
       "12346.0      2\n",
       "12347.0    182\n",
       "12348.0     31\n",
       "12349.0     73\n",
       "12350.0     17\n",
       "          ... \n",
       "18280.0     10\n",
       "18281.0      7\n",
       "18282.0     13\n",
       "18283.0    756\n",
       "18287.0     70\n",
       "Name: Country, Length: 4372, dtype: int64"
      ]
     },
     "execution_count": 9,
     "metadata": {},
     "output_type": "execute_result"
    }
   ],
   "source": [
    "df.groupby(['CustomerID'])['Country'].count()"
   ]
  },
  {
   "cell_type": "markdown",
   "metadata": {},
   "source": [
    "CREATING USER INTERACTION MATRIX \n"
   ]
  },
  {
   "cell_type": "code",
   "execution_count": 10,
   "metadata": {
    "scrolled": true
   },
   "outputs": [
    {
     "name": "stdout",
     "output_type": "stream",
     "text": [
      "StockCode   10002  10080  10120  10123C  10124A  10124G  10125  10133  10135  \\\n",
      "CustomerID                                                                     \n",
      "12346.0       0.0    0.0    0.0     0.0     0.0     0.0    0.0    0.0    0.0   \n",
      "12347.0       0.0    0.0    0.0     0.0     0.0     0.0    0.0    0.0    0.0   \n",
      "12348.0       0.0    0.0    0.0     0.0     0.0     0.0    0.0    0.0    0.0   \n",
      "12349.0       0.0    0.0    0.0     0.0     0.0     0.0    0.0    0.0    0.0   \n",
      "12350.0       0.0    0.0    0.0     0.0     0.0     0.0    0.0    0.0    0.0   \n",
      "...           ...    ...    ...     ...     ...     ...    ...    ...    ...   \n",
      "18280.0       0.0    0.0    0.0     0.0     0.0     0.0    0.0    0.0    0.0   \n",
      "18281.0       0.0    0.0    0.0     0.0     0.0     0.0    0.0    0.0    0.0   \n",
      "18282.0       0.0    0.0    0.0     0.0     0.0     0.0    0.0    0.0    0.0   \n",
      "18283.0       0.0    0.0    0.0     0.0     0.0     0.0    0.0    0.0    0.0   \n",
      "18287.0       0.0    0.0    0.0     0.0     0.0     0.0    0.0    0.0    0.0   \n",
      "\n",
      "StockCode   11001  ...  90214Y  90214Z  BANK CHARGES   C2  CRUK    D  DOT  \\\n",
      "CustomerID         ...                                                      \n",
      "12346.0       0.0  ...     0.0     0.0           0.0  0.0   0.0  0.0  0.0   \n",
      "12347.0       0.0  ...     0.0     0.0           0.0  0.0   0.0  0.0  0.0   \n",
      "12348.0       0.0  ...     0.0     0.0           0.0  0.0   0.0  0.0  0.0   \n",
      "12349.0       0.0  ...     0.0     0.0           0.0  0.0   0.0  0.0  0.0   \n",
      "12350.0       0.0  ...     0.0     0.0           0.0  0.0   0.0  0.0  0.0   \n",
      "...           ...  ...     ...     ...           ...  ...   ...  ...  ...   \n",
      "18280.0       0.0  ...     0.0     0.0           0.0  0.0   0.0  0.0  0.0   \n",
      "18281.0       0.0  ...     0.0     0.0           0.0  0.0   0.0  0.0  0.0   \n",
      "18282.0       0.0  ...     0.0     0.0           0.0  0.0   0.0  0.0  0.0   \n",
      "18283.0       0.0  ...     0.0     0.0           0.0  0.0   0.0  0.0  0.0   \n",
      "18287.0       0.0  ...     0.0     0.0           0.0  0.0   0.0  0.0  0.0   \n",
      "\n",
      "StockCode     M  PADS  POST  \n",
      "CustomerID                   \n",
      "12346.0     0.0   0.0   0.0  \n",
      "12347.0     0.0   0.0   0.0  \n",
      "12348.0     0.0   0.0   1.0  \n",
      "12349.0     0.0   0.0   1.0  \n",
      "12350.0     0.0   0.0   1.0  \n",
      "...         ...   ...   ...  \n",
      "18280.0     0.0   0.0   0.0  \n",
      "18281.0     0.0   0.0   0.0  \n",
      "18282.0     0.0   0.0   0.0  \n",
      "18283.0     1.0   0.0   0.0  \n",
      "18287.0     0.0   0.0   0.0  \n",
      "\n",
      "[4372 rows x 3684 columns]\n"
     ]
    }
   ],
   "source": [
    "user_item_matrix=df.pivot_table(index='CustomerID',columns='StockCode',values='rating')\n",
    "user_item_matrix=user_item_matrix.fillna(0)\n",
    "print(user_item_matrix)\n",
    "user_item_matrix_1=csr_matrix(user_item_matrix.values)#converting into a sparse matrix\n",
    "#we can create after sorting by country as well"
   ]
  },
  {
   "cell_type": "markdown",
   "metadata": {},
   "source": [
    "the new csr matrix"
   ]
  },
  {
   "cell_type": "code",
   "execution_count": 11,
   "metadata": {},
   "outputs": [
    {
     "name": "stdout",
     "output_type": "stream",
     "text": [
      "  (0, 2001)\t1.0\n",
      "  (1, 25)\t1.0\n",
      "  (1, 87)\t1.0\n",
      "  (1, 130)\t1.0\n",
      "  (1, 167)\t1.0\n",
      "  (1, 206)\t1.0\n",
      "  (1, 208)\t1.0\n",
      "  (1, 275)\t1.0\n",
      "  (1, 316)\t1.0\n",
      "  (1, 320)\t1.0\n",
      "  (1, 333)\t1.0\n",
      "  (1, 382)\t1.0\n",
      "  (1, 396)\t1.0\n",
      "  (1, 461)\t1.0\n",
      "  (1, 648)\t1.0\n",
      "  (1, 682)\t1.0\n",
      "  (1, 756)\t1.0\n",
      "  (1, 792)\t1.0\n",
      "  (1, 823)\t1.0\n",
      "  (1, 912)\t1.0\n",
      "  (1, 913)\t1.0\n",
      "  (1, 1032)\t1.0\n",
      "  (1, 1035)\t1.0\n",
      "  (1, 1090)\t1.0\n",
      "  (1, 1091)\t1.0\n",
      "  :\t:\n",
      "  (4371, 1916)\t1.0\n",
      "  (4371, 1917)\t1.0\n",
      "  (4371, 2057)\t1.0\n",
      "  (4371, 2090)\t1.0\n",
      "  (4371, 2093)\t1.0\n",
      "  (4371, 2095)\t1.0\n",
      "  (4371, 2098)\t1.0\n",
      "  (4371, 2100)\t1.0\n",
      "  (4371, 2132)\t1.0\n",
      "  (4371, 2194)\t1.0\n",
      "  (4371, 2196)\t1.0\n",
      "  (4371, 2257)\t1.0\n",
      "  (4371, 2486)\t1.0\n",
      "  (4371, 2584)\t1.0\n",
      "  (4371, 2585)\t1.0\n",
      "  (4371, 2677)\t1.0\n",
      "  (4371, 2678)\t1.0\n",
      "  (4371, 2679)\t1.0\n",
      "  (4371, 2871)\t1.0\n",
      "  (4371, 2915)\t1.0\n",
      "  (4371, 3087)\t1.0\n",
      "  (4371, 3190)\t1.0\n",
      "  (4371, 3191)\t1.0\n",
      "  (4371, 3193)\t1.0\n",
      "  (4371, 3298)\t1.0\n"
     ]
    }
   ],
   "source": [
    "print(user_item_matrix_1)"
   ]
  },
  {
   "cell_type": "markdown",
   "metadata": {},
   "source": [
    "FINDING NEAREST NEIGHBOOURS"
   ]
  },
  {
   "cell_type": "code",
   "execution_count": 12,
   "metadata": {},
   "outputs": [
    {
     "data": {
      "text/plain": [
       "NearestNeighbors(algorithm='brute', metric='cosine', n_jobs=-1, n_neighbors=20)"
      ]
     },
     "execution_count": 12,
     "metadata": {},
     "output_type": "execute_result"
    }
   ],
   "source": [
    "knn=NearestNeighbors(metric='cosine',algorithm='brute',n_neighbors=20, n_jobs=-1)\n",
    "knn.fit(user_item_matrix_1)"
   ]
  },
  {
   "cell_type": "markdown",
   "metadata": {},
   "source": [
    "function to return the index of a customerid \n"
   ]
  },
  {
   "cell_type": "code",
   "execution_count": 13,
   "metadata": {},
   "outputs": [],
   "source": [
    "def func_return_index(customer_id):\n",
    "    for i in range(0,user_item_matrix.shape[0]):\n",
    "        if(user_item_matrix.index[i]==customer_id):\n",
    "            return(i)\n",
    "    print(\"no index found\",customer_id)\n",
    "\n",
    "   \n",
    "        \n",
    "        \n",
    "        \n",
    "\n",
    "    \n",
    "       \n"
   ]
  },
  {
   "cell_type": "markdown",
   "metadata": {},
   "source": [
    "input the customer id for which reccomendations are to be made"
   ]
  },
  {
   "cell_type": "code",
   "execution_count": 14,
   "metadata": {},
   "outputs": [
    {
     "name": "stdout",
     "output_type": "stream",
     "text": [
      "enter the customerid18281.0\n",
      "4368\n",
      "[[3.33066907e-16 7.54744264e-01 7.60954278e-01 7.81782110e-01\n",
      "  7.86191006e-01 7.88846058e-01 7.96346730e-01 7.97969491e-01\n",
      "  8.04819985e-01 8.04819985e-01]] [[4368  325 1763 2378 2746  716   73 2255  895 1315]]\n"
     ]
    }
   ],
   "source": [
    "CID=float(input(\"enter the customerid\"))\n",
    "query_index=func_return_index(CID)\n",
    "print(query_index)\n",
    "neighbors_nearest=10\n",
    "distances, indices = knn.kneighbors(user_item_matrix_1[query_index, :].reshape(1, -1), n_neighbors =neighbors_nearest)#..\n",
    "print(distances,indices)\n",
    "\n"
   ]
  },
  {
   "cell_type": "markdown",
   "metadata": {},
   "source": [
    "MAKING RECCOMENDATIONS"
   ]
  },
  {
   "cell_type": "code",
   "execution_count": 15,
   "metadata": {},
   "outputs": [
    {
     "name": "stdout",
     "output_type": "stream",
     "text": [
      "[980, 1292, 1487, 1853, 1854]\n"
     ]
    }
   ],
   "source": [
    "user_item_matrix_new=user_item_matrix\n",
    "for i in range(user_item_matrix_new.shape[1]):\n",
    "    if(user_item_matrix_new.iloc[query_index,i]==0):\n",
    "        sum_list=[user_item_matrix_new.iloc[j,i] for j in indices[0]]#??\n",
    "        average=0.0\n",
    "        for k in sum_list:\n",
    "            average=average+k\n",
    "        average=(average/neighbors_nearest)\n",
    "        \n",
    "        user_item_matrix_new.iloc[query_index,i]=average\n",
    "    elif(user_item_matrix_new.iloc[query_index,i]==1):\n",
    "        user_item_matrix_new.iloc[query_index,i]=-1\n",
    "#for i in range(3684):\n",
    "    #if(user_item_matrix_new.iloc[query_index,i]!=0):\n",
    "        #print(user_item_matrix_new.iloc[query_index,i])\n",
    "\n",
    "items_CID=[user_item_matrix_new.iloc[query_index,i] for i in range(user_item_matrix_new.shape[1])]\n",
    "items_index=sorted(range(len(items_CID)),key= lambda x: items_CID[x],reverse=True )[0:5]\n",
    "print(items_index)\n",
    "\n",
    "    \n",
    "\n",
    "\n",
    "    "
   ]
  },
  {
   "cell_type": "markdown",
   "metadata": {},
   "source": [
    "RETURNING THE TOP FIVE RECCOMENDATIONS"
   ]
  },
  {
   "cell_type": "code",
   "execution_count": 16,
   "metadata": {},
   "outputs": [
    {
     "name": "stdout",
     "output_type": "stream",
     "text": [
      "The stockcodes for the top 5 reccomendation for CustomerID 18281.0 is ['22077', '22423', '22630', '23009', '23010']\n"
     ]
    }
   ],
   "source": [
    "reccom=[user_item_matrix_new.columns[i] for i in items_index]\n",
    "print(\"The stockcodes for the top 5 reccomendation for CustomerID\",CID,\"is\",reccom)"
   ]
  },
  {
   "cell_type": "code",
   "execution_count": null,
   "metadata": {},
   "outputs": [],
   "source": []
  }
 ],
 "metadata": {
  "kernelspec": {
   "display_name": "Python 3",
   "language": "python",
   "name": "python3"
  },
  "language_info": {
   "codemirror_mode": {
    "name": "ipython",
    "version": 3
   },
   "file_extension": ".py",
   "mimetype": "text/x-python",
   "name": "python",
   "nbconvert_exporter": "python",
   "pygments_lexer": "ipython3",
   "version": "3.8.5"
  }
 },
 "nbformat": 4,
 "nbformat_minor": 4
}
